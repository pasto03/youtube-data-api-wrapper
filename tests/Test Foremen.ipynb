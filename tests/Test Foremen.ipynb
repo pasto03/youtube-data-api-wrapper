{
 "cells": [
  {
   "cell_type": "markdown",
   "id": "6c5154c1",
   "metadata": {},
   "source": [
    "# Setups"
   ]
  },
  {
   "cell_type": "code",
   "execution_count": null,
   "id": "397edc12",
   "metadata": {},
   "outputs": [],
   "source": [
    "import sys\n",
    "import os\n",
    "\n",
    "# print(os.path.abspath(os.path.join(os.path.dirname(__file__))))\n",
    "sys.path.append(os.path.abspath(os.path.join(os.getcwd(), \"..\")))"
   ]
  },
  {
   "cell_type": "code",
   "execution_count": null,
   "id": "e92dd453",
   "metadata": {},
   "outputs": [],
   "source": [
    "from constants import video_ids, search_keywords, playlist_ids, channel_ids\n",
    "from tests.utils import measure_time\n",
    "\n",
    "devKey = open(\"devKey\").read()"
   ]
  },
  {
   "cell_type": "markdown",
   "id": "a3684e7f",
   "metadata": {},
   "source": [
    "# Type 1: Iterable Foreman"
   ]
  },
  {
   "cell_type": "markdown",
   "id": "175834a2",
   "metadata": {},
   "source": [
    "## CommentThreadsForeman"
   ]
  },
  {
   "cell_type": "code",
   "execution_count": null,
   "id": "737a5891",
   "metadata": {},
   "outputs": [],
   "source": [
    "from yt_pipeline.foreman import CommentThreadsForeman\n",
    "from yt_pipeline.retriever import PipeSettings, RetrieverSettings\n",
    "\n",
    "\n",
    "worker = CommentThreadsForeman()\n",
    "results = worker.invoke(\n",
    "    iterable=video_ids, developerKey=devKey, \n",
    "    pipe_settings=PipeSettings(retrieval=\"all\", max_page=1), \n",
    "    retriever_settings=RetrieverSettings(output_folder=\"backup/CommentThreadsRetriever\", multithread=True), max_workers=16)"
   ]
  },
  {
   "cell_type": "code",
   "execution_count": null,
   "id": "55d95ce7",
   "metadata": {
    "scrolled": true
   },
   "outputs": [],
   "source": [
    "import pandas as pd\n",
    "\n",
    "main_df = pd.DataFrame(results.main_records)\n",
    "main_df"
   ]
  },
  {
   "cell_type": "markdown",
   "id": "f1fc5bb2",
   "metadata": {},
   "source": [
    "## PlaylistItemsForeman"
   ]
  },
  {
   "cell_type": "code",
   "execution_count": null,
   "id": "1e011143",
   "metadata": {},
   "outputs": [],
   "source": [
    "from yt_pipeline.foreman import PlaylistItemsForeman\n",
    "from yt_pipeline.retriever import PipeSettings, RetrieverSettings\n",
    "\n",
    "\n",
    "worker = PlaylistItemsForeman()\n",
    "results = worker.invoke(\n",
    "    iterable=playlist_ids, developerKey=devKey, \n",
    "    pipe_settings=PipeSettings(retrieval=\"all\", max_page=3), \n",
    "    retriever_settings=RetrieverSettings(output_folder=\"backup/PlaylistItemsRetriever\", multithread=True), max_workers=16)"
   ]
  },
  {
   "cell_type": "code",
   "execution_count": null,
   "id": "07f5d521",
   "metadata": {
    "scrolled": true
   },
   "outputs": [],
   "source": [
    "import pandas as pd\n",
    "\n",
    "main_df = pd.DataFrame(results.main_records)\n",
    "main_df"
   ]
  },
  {
   "cell_type": "code",
   "execution_count": null,
   "id": "3938c75d",
   "metadata": {
    "scrolled": true
   },
   "outputs": [],
   "source": [
    "flattened = []\n",
    "\n",
    "for playlist_id, thumbnails in results.thumbnails.items():\n",
    "    for thumb in thumbnails:\n",
    "        flattened.append({\n",
    "            \"playlistId\": playlist_id,\n",
    "            \"quality\": thumb[\"quality\"],\n",
    "            \"url\": thumb[\"url\"],\n",
    "            \"width\": thumb[\"width\"],\n",
    "            \"height\": thumb[\"height\"]\n",
    "        })\n",
    "\n",
    "# convert to DataFrame\n",
    "df = pd.DataFrame(flattened)\n",
    "df"
   ]
  },
  {
   "cell_type": "markdown",
   "id": "3da10611",
   "metadata": {},
   "source": [
    "## PlaylistsForeman"
   ]
  },
  {
   "cell_type": "code",
   "execution_count": null,
   "id": "a48f8ffd",
   "metadata": {},
   "outputs": [],
   "source": [
    "from yt_pipeline.foreman import PlaylistsForeman\n",
    "from yt_pipeline.retriever import PipeSettings, RetrieverSettings\n",
    "\n",
    "\n",
    "worker = PlaylistsForeman()\n",
    "results = worker.invoke(\n",
    "    iterable=channel_ids, developerKey=devKey, \n",
    "    pipe_settings=PipeSettings(retrieval=\"all\", max_page=3), \n",
    "    retriever_settings=RetrieverSettings(output_folder=\"backup/PlaylistsRetriever\", multithread=True), max_workers=16)"
   ]
  },
  {
   "cell_type": "code",
   "execution_count": null,
   "id": "57251c4c",
   "metadata": {},
   "outputs": [],
   "source": [
    "import pandas as pd\n",
    "\n",
    "main_df = pd.DataFrame(results.main_records)\n",
    "main_df"
   ]
  },
  {
   "cell_type": "markdown",
   "id": "6f264180",
   "metadata": {},
   "source": [
    "## SearchForeman"
   ]
  },
  {
   "cell_type": "code",
   "execution_count": null,
   "id": "6e37152e",
   "metadata": {},
   "outputs": [],
   "source": [
    "from yt_pipeline.foreman import SearchForeman\n",
    "from yt_pipeline.retriever import PipeSettings, RetrieverSettings, SearchTypeCheckboxProps, SearchParamProps\n",
    "\n",
    "iterable = [\n",
    "    SearchParamProps(search_keywords[0], channelId='UC84t1K5ri-7u9bFCaUKTXDA', order=\"relevance\"),\n",
    "    SearchParamProps(search_keywords[0], channelId='UC84t1K5ri-7u9bFCaUKTXDA', videoDuration=\"long\", order=\"relevance\"),\n",
    "    SearchParamProps(search_keywords[0], channelId='UC84t1K5ri-7u9bFCaUKTXDA', videoDuration=\"long\", order=\"relevance\", \n",
    "                    publishedAfter=\"2023-02-01T13:00:02Z\"),\n",
    "    SearchParamProps(search_keywords[0], channelId='UC84t1K5ri-7u9bFCaUKTXDA', videoCategoryId=\"19\",\n",
    "                     order=\"relevance\"),\n",
    "]\n",
    "# types = SearchTypeCheckboxProps(video=True, playlist=True, channel=True)\n",
    "types = SearchTypeCheckboxProps(video=True)\n",
    "worker = SearchForeman(types=types)\n",
    "results = worker.invoke(\n",
    "    iterable=iterable, developerKey=devKey, \n",
    "    pipe_settings=PipeSettings(retrieval=\"all\", max_page=1), \n",
    "    retriever_settings=RetrieverSettings(output_folder=\"backup/SearchRetriever\", multithread=True), max_workers=16)"
   ]
  },
  {
   "cell_type": "code",
   "execution_count": null,
   "id": "2967beed",
   "metadata": {},
   "outputs": [],
   "source": [
    "import pandas as pd\n",
    "\n",
    "main_df = pd.DataFrame(results.main_records)\n",
    "main_df"
   ]
  },
  {
   "cell_type": "markdown",
   "id": "4435783d",
   "metadata": {},
   "source": [
    "# Type 2: Unique Foreman"
   ]
  },
  {
   "cell_type": "markdown",
   "id": "7a49f3e4",
   "metadata": {},
   "source": [
    "## VideosForeman"
   ]
  },
  {
   "cell_type": "code",
   "execution_count": null,
   "id": "fd316310",
   "metadata": {},
   "outputs": [],
   "source": [
    "from yt_pipeline.foreman import VideosForeman\n",
    "from yt_pipeline.retriever import RetrieverSettings\n",
    "\n",
    "\n",
    "worker = VideosForeman()\n",
    "results = worker.invoke(\n",
    "    iterable=video_ids, developerKey=devKey,  \n",
    "    retriever_settings=RetrieverSettings(output_folder=\"backup/VideosRetriever\", multithread=True), \n",
    "    max_workers=16)"
   ]
  },
  {
   "cell_type": "code",
   "execution_count": null,
   "id": "e83ebc92",
   "metadata": {
    "scrolled": true
   },
   "outputs": [],
   "source": [
    "import pandas as pd\n",
    "\n",
    "main_df = pd.DataFrame(results.main_records)\n",
    "main_df"
   ]
  },
  {
   "cell_type": "code",
   "execution_count": null,
   "id": "294bd708",
   "metadata": {},
   "outputs": [],
   "source": [
    "flattened = []\n",
    "\n",
    "for playlist_id, thumbnails in results.thumbnails.items():\n",
    "    for thumb in thumbnails:\n",
    "        flattened.append({\n",
    "            \"playlistId\": playlist_id,\n",
    "            \"quality\": thumb[\"quality\"],\n",
    "            \"url\": thumb[\"url\"],\n",
    "            \"width\": thumb[\"width\"],\n",
    "            \"height\": thumb[\"height\"]\n",
    "        })\n",
    "\n",
    "# convert to DataFrame\n",
    "df = pd.DataFrame(flattened)\n",
    "df"
   ]
  },
  {
   "cell_type": "markdown",
   "id": "004a923c",
   "metadata": {},
   "source": [
    "## ChannelsForeman"
   ]
  },
  {
   "cell_type": "code",
   "execution_count": null,
   "id": "d05cef1d",
   "metadata": {},
   "outputs": [],
   "source": [
    "from yt_pipeline.foreman import ChannelsForeman\n",
    "from yt_pipeline.retriever import RetrieverSettings\n",
    "\n",
    "\n",
    "worker = ChannelsForeman()\n",
    "results = worker.invoke(\n",
    "    iterable=channel_ids, developerKey=devKey,  \n",
    "    retriever_settings=RetrieverSettings(output_folder=\"backup/ChannelsRetriever\", multithread=True), \n",
    "    max_workers=16)"
   ]
  },
  {
   "cell_type": "code",
   "execution_count": null,
   "id": "c96f41a6",
   "metadata": {
    "scrolled": true
   },
   "outputs": [],
   "source": [
    "import pandas as pd\n",
    "\n",
    "main_df = pd.DataFrame(results.main_records)\n",
    "main_df"
   ]
  },
  {
   "cell_type": "markdown",
   "id": "e292a5d0",
   "metadata": {},
   "source": [
    "# Type 3: CaptionsForeman"
   ]
  },
  {
   "cell_type": "code",
   "execution_count": null,
   "id": "c85e2ee2",
   "metadata": {},
   "outputs": [],
   "source": [
    "from yt_pipeline.foreman import CaptionsForeman\n",
    "from yt_pipeline.foreman.captions import CaptionsParams\n",
    "from yt_pipeline.retriever import RetrieverSettings\n",
    "\n",
    "\n",
    "iterable = [CaptionsParams(videoId=videoId) for videoId in video_ids[:10]]\n",
    "worker = CaptionsForeman()\n",
    "results = worker.invoke(\n",
    "    iterable=iterable, developerKey=devKey,  \n",
    "    retriever_settings=RetrieverSettings(output_folder=\"backup/CaptionsRetriever\", multithread=True), \n",
    "    max_workers=16)"
   ]
  },
  {
   "cell_type": "code",
   "execution_count": null,
   "id": "6b942bb1",
   "metadata": {},
   "outputs": [],
   "source": [
    "import pandas as pd\n",
    "\n",
    "main_df = pd.DataFrame(results.main_records)\n",
    "main_df"
   ]
  },
  {
   "cell_type": "code",
   "execution_count": null,
   "id": "6c65bca0",
   "metadata": {},
   "outputs": [],
   "source": []
  },
  {
   "cell_type": "code",
   "execution_count": null,
   "id": "6e3e29b4",
   "metadata": {},
   "outputs": [],
   "source": []
  }
 ],
 "metadata": {
  "kernelspec": {
   "display_name": "Python 3 (ipykernel)",
   "language": "python",
   "name": "python3"
  },
  "language_info": {
   "codemirror_mode": {
    "name": "ipython",
    "version": 3
   },
   "file_extension": ".py",
   "mimetype": "text/x-python",
   "name": "python",
   "nbconvert_exporter": "python",
   "pygments_lexer": "ipython3",
   "version": "3.10.5"
  }
 },
 "nbformat": 4,
 "nbformat_minor": 5
}
