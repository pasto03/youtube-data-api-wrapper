{
 "cells": [
  {
   "cell_type": "markdown",
   "id": "d3d02e1c",
   "metadata": {},
   "source": [
    "# Setups"
   ]
  },
  {
   "cell_type": "code",
   "execution_count": 1,
   "id": "54a29267",
   "metadata": {},
   "outputs": [],
   "source": [
    "import sys\n",
    "import os\n",
    "\n",
    "# print(os.path.abspath(os.path.join(os.path.dirname(__file__))))\n",
    "sys.path.append(os.path.abspath(os.path.join(os.getcwd(), \"..\")))"
   ]
  },
  {
   "cell_type": "code",
   "execution_count": 2,
   "id": "809a4ec6",
   "metadata": {},
   "outputs": [],
   "source": [
    "from constants import video_ids, channel_ids, search_keywords, playlist_ids\n",
    "from tests.utils import measure_time\n",
    "\n",
    "devKey = open(\"devKey\").read()"
   ]
  },
  {
   "cell_type": "markdown",
   "id": "ea397dca",
   "metadata": {},
   "source": [
    "# Type 1: Iterable"
   ]
  },
  {
   "cell_type": "markdown",
   "id": "0afb6cd0",
   "metadata": {},
   "source": [
    "## CommentThreadsRetriever"
   ]
  },
  {
   "cell_type": "code",
   "execution_count": null,
   "id": "b1c0bd1d",
   "metadata": {},
   "outputs": [],
   "source": [
    "from yt_pipeline.retriever import CommentThreadsRetriever, PipeSettings, RetrieverSettings\n",
    "\n",
    "pipe_settings = PipeSettings(retrieval=\"all\", max_page=10)\n",
    "\n",
    "print(\"Size of iterable:\", len(video_ids))\n",
    "worker = CommentThreadsRetriever(iterable=video_ids, developerKey=devKey, settings=pipe_settings)\n",
    "results = worker.invoke(multithread=True)\n",
    "print(\"Size of results:\", len(results))"
   ]
  },
  {
   "cell_type": "code",
   "execution_count": null,
   "id": "74d58530",
   "metadata": {},
   "outputs": [],
   "source": [
    "for err in worker.ignored_errors:\n",
    "    print(err.reason)\n",
    "#     print(err.uri)"
   ]
  },
  {
   "cell_type": "markdown",
   "id": "75c2adab",
   "metadata": {},
   "source": [
    "### Highlights\n",
    "- disabled comment sections captured\n",
    "- invalid video id captured"
   ]
  },
  {
   "cell_type": "markdown",
   "id": "d23598c6",
   "metadata": {},
   "source": [
    "## CommentThreadsContainer"
   ]
  },
  {
   "cell_type": "code",
   "execution_count": null,
   "id": "b8b0fa08",
   "metadata": {},
   "outputs": [],
   "source": [
    "from yt_pipeline.container import CommentThreadsContainer\n",
    "\n",
    "# handle different results\n",
    "if isinstance(results, tuple):\n",
    "    raw_items, error = results\n",
    "    self.errors.append(error)\n",
    "else:\n",
    "    raw_items = results\n",
    "\n",
    "box = CommentThreadsContainer(raw_items)"
   ]
  },
  {
   "cell_type": "code",
   "execution_count": null,
   "id": "da1310e5",
   "metadata": {
    "scrolled": true
   },
   "outputs": [],
   "source": [
    "for i in box.items[:5]:\n",
    "    print(i, end='\\n\\n')"
   ]
  },
  {
   "cell_type": "markdown",
   "id": "4ee9eb59",
   "metadata": {},
   "source": [
    "## CommentThreadsShipper"
   ]
  },
  {
   "cell_type": "code",
   "execution_count": null,
   "id": "1ed2f9de",
   "metadata": {},
   "outputs": [],
   "source": [
    "from yt_pipeline.shipper import CommentThreadsShipper\n",
    "\n",
    "shipper = CommentThreadsShipper()\n",
    "shipper.invoke(box.items)"
   ]
  },
  {
   "cell_type": "code",
   "execution_count": null,
   "id": "26448c1b",
   "metadata": {
    "scrolled": false
   },
   "outputs": [],
   "source": [
    "import pandas as pd\n",
    "\n",
    "df = pd.DataFrame(shipper.main_records)\n",
    "df.head()"
   ]
  },
  {
   "cell_type": "markdown",
   "id": "060163dc",
   "metadata": {},
   "source": [
    "## PlaylistItemsRetriever"
   ]
  },
  {
   "cell_type": "code",
   "execution_count": null,
   "id": "2520c509",
   "metadata": {},
   "outputs": [],
   "source": [
    "from yt_pipeline.retriever import PlaylistItemsRetriever, PipeSettings\n",
    "\n",
    "settings = PipeSettings(retrieval=\"all\", max_page=10)\n",
    "print(\"Size of playlist ids:\", len(playlist_ids))\n",
    "worker = PlaylistItemsRetriever(iterable=playlist_ids, developerKey=devKey, settings=settings, max_workers=16)\n",
    "results = worker.invoke(multithread=True, flatten_result=False)\n",
    "print(\"Size of results:\", len(results))"
   ]
  },
  {
   "cell_type": "code",
   "execution_count": null,
   "id": "bcbf9ce0",
   "metadata": {},
   "outputs": [],
   "source": [
    "for err in worker.ignored_errors:\n",
    "    print(err.reason)\n",
    "#     print(err.uri)"
   ]
  },
  {
   "cell_type": "markdown",
   "id": "9a6225ab",
   "metadata": {},
   "source": [
    "### Highlights\n",
    "- invalid playlist id captured and skipped\n",
    "- empty id produce empty result"
   ]
  },
  {
   "cell_type": "markdown",
   "id": "c5a59a6e",
   "metadata": {},
   "source": [
    "## PlaylistItemsContainer"
   ]
  },
  {
   "cell_type": "code",
   "execution_count": null,
   "id": "bde409dd",
   "metadata": {},
   "outputs": [],
   "source": [
    "from yt_pipeline.container import PlaylistItemsContainer\n",
    "\n",
    "# handle different results\n",
    "if isinstance(results, tuple):\n",
    "    raw_items, error = results\n",
    "    self.errors.append(error)\n",
    "else:\n",
    "    raw_items = results\n",
    "    \n",
    "box = PlaylistItemsContainer(raw_items)\n",
    "\n",
    "for i in box.items[:5]:\n",
    "    print(i, end='\\n\\n')"
   ]
  },
  {
   "cell_type": "markdown",
   "id": "571da380",
   "metadata": {},
   "source": [
    "## PlaylistItemShipper"
   ]
  },
  {
   "cell_type": "code",
   "execution_count": null,
   "id": "bf7660eb",
   "metadata": {
    "scrolled": true
   },
   "outputs": [],
   "source": [
    "from yt_pipeline.shipper import PlaylistItemShipper\n",
    "\n",
    "shipper = PlaylistItemShipper()\n",
    "shipper.invoke(box.items)\n",
    "\n",
    "import pandas as pd\n",
    "\n",
    "df = pd.DataFrame(shipper.main_records)\n",
    "df"
   ]
  },
  {
   "cell_type": "markdown",
   "id": "02f1219b",
   "metadata": {},
   "source": [
    "## SearchRetriever"
   ]
  },
  {
   "cell_type": "code",
   "execution_count": null,
   "id": "017aba2a",
   "metadata": {},
   "outputs": [],
   "source": [
    "# normal run; check what happens when quota exceed \n",
    "from yt_pipeline.retriever import SearchRetriever, PipeSettings, SearchParamProps, SearchTypeCheckboxProps\n",
    "\n",
    "\n",
    "settings = PipeSettings(retrieval=\"all\", max_page=1)\n",
    "params = [SearchParamProps(kw) for kw in search_keywords[20:80]]\n",
    "types = SearchTypeCheckboxProps(channel=True, video=True, playlist=True)\n",
    "# params\n",
    "print(\"Size of search params:\", len(params))\n",
    "worker = SearchRetriever(iterable=params, developerKey=devKey, types=types, settings=settings)\n",
    "results = worker.invoke(multithread=True)\n",
    "print(\"Size of results:\", len(results))"
   ]
  },
  {
   "cell_type": "code",
   "execution_count": null,
   "id": "69d8b05f",
   "metadata": {},
   "outputs": [],
   "source": [
    "for err in worker.ignored_errors:\n",
    "    print(err.reason)\n",
    "#     print(err.uri)"
   ]
  },
  {
   "cell_type": "code",
   "execution_count": null,
   "id": "d5ce9bbd",
   "metadata": {},
   "outputs": [],
   "source": [
    "# run 2: different params or invalid params passed\n",
    "from yt_pipeline.retriever import SearchRetriever, PipeSettings, SearchParamProps, SearchTypeCheckboxProps\n",
    "\n",
    "settings = PipeSettings(retrieval=\"all\", max_page=1)\n",
    "params = [\n",
    "    SearchParamProps(search_keywords[0], channelId='UC84t1K5ri-7u9bFCaUKTXDA', order=\"relevance\"),\n",
    "    SearchParamProps(search_keywords[0], channelId='UC84t1K5ri-7u9bFCaUKTXDA', videoDuration=\"long\", order=\"relevance\"),\n",
    "    SearchParamProps(search_keywords[0], channelId='UC84t1K5ri-7u9bFCaUKTXDA', videoDuration=\"long\", order=\"relevance\", \n",
    "                    publishedAfter=\"2023-02-01T13:00:02Z\"),\n",
    "    SearchParamProps(search_keywords[0], channelId='UC84t1K5ri-7u9bFCaUKTXDA', videoCategoryId=\"19\",\n",
    "                     order=\"relevance\"),\n",
    "]\n",
    "types = SearchTypeCheckboxProps(video=True)\n",
    "# types = SearchTypeCheckboxProps(video=True, playlist=True)\n",
    "print(\"Size of search params:\", len(params))\n",
    "worker = SearchRetriever(iterable=params, developerKey=devKey, types=types, settings=settings)\n",
    "results = worker.invoke(multithread=True)\n",
    "print(\"Size of results:\", len(results))"
   ]
  },
  {
   "cell_type": "code",
   "execution_count": null,
   "id": "7f87f175",
   "metadata": {},
   "outputs": [],
   "source": [
    "params"
   ]
  },
  {
   "cell_type": "code",
   "execution_count": null,
   "id": "b1a04ff1",
   "metadata": {},
   "outputs": [],
   "source": [
    "# [i['snippet']['publishedAt'] for i in results[-1]]\n",
    "results[-1]"
   ]
  },
  {
   "cell_type": "markdown",
   "id": "7847fa33",
   "metadata": {},
   "source": [
    "### Highlights:\n",
    "- Quota exceed error is captured\n",
    "- badRequest Error will be returned and pipe will halt: eg. if channelId specified, set type to video; more details in https://developers.google.com/youtube/v3/docs/search/list\n",
    "- Request without specified 'type' is allowed in API; this pipeline does not encourage the behaviour $\\rightarrow$ 'types' parameter in required in instantiation\n",
    "\n",
    "### Observation:\n",
    "- Sometimes even type is specified as 'video', output with 'channel' type can still occurs; a bug in YouTube Data API"
   ]
  },
  {
   "cell_type": "markdown",
   "id": "2cf42dc8",
   "metadata": {},
   "source": [
    "## SearchContainer"
   ]
  },
  {
   "cell_type": "code",
   "execution_count": null,
   "id": "d1cbabef",
   "metadata": {},
   "outputs": [],
   "source": [
    "from yt_pipeline.container import SearchContainer\n",
    "\n",
    "# handle different results\n",
    "if isinstance(results, tuple):\n",
    "    raw_items, error = results\n",
    "    self.errors.append(error)\n",
    "else:\n",
    "    raw_items = results\n",
    "    \n",
    "box = SearchContainer(raw_items)\n",
    "\n",
    "for i in box.items[:5]:\n",
    "    print(i, end='\\n\\n')"
   ]
  },
  {
   "cell_type": "markdown",
   "id": "ab4caf6e",
   "metadata": {},
   "source": [
    "## SearchShipper"
   ]
  },
  {
   "cell_type": "code",
   "execution_count": null,
   "id": "b2194e5c",
   "metadata": {
    "scrolled": true
   },
   "outputs": [],
   "source": [
    "from yt_pipeline.shipper import SearchShipper\n",
    "\n",
    "shipper = SearchShipper()\n",
    "shipper.invoke(box.items)\n",
    "\n",
    "import pandas as pd\n",
    "\n",
    "df = pd.DataFrame(shipper.main_records)\n",
    "df"
   ]
  },
  {
   "cell_type": "markdown",
   "id": "fabdf325",
   "metadata": {},
   "source": [
    "## PlaylistRetriever"
   ]
  },
  {
   "cell_type": "code",
   "execution_count": null,
   "id": "82a48fd0",
   "metadata": {},
   "outputs": [],
   "source": [
    "from yt_pipeline.retriever import PlaylistsRetriever, PipeSettings, SearchParamProps, SearchTypeCheckboxProps\n",
    "\n",
    "settings = PipeSettings(retrieval=\"all\", max_page=3)\n",
    "# types = SearchTypeCheckboxProps(video=True, playlist=True)\n",
    "print(\"Size of playlist ids:\", len(channel_ids))\n",
    "worker = PlaylistsRetriever(iterable=channel_ids, developerKey=devKey, settings=settings, max_workers=16)\n",
    "results = worker.invoke(multithread=True)\n",
    "print(\"Size of results:\", len(results))"
   ]
  },
  {
   "cell_type": "markdown",
   "id": "5502c6eb",
   "metadata": {},
   "source": [
    "### Highlights:\n",
    "- invalid id input will be captured and return error, as `channelId` serves as a filter instead of input id"
   ]
  },
  {
   "cell_type": "markdown",
   "id": "eedbbc4e",
   "metadata": {},
   "source": [
    "## PlaylistsContainer"
   ]
  },
  {
   "cell_type": "code",
   "execution_count": null,
   "id": "5056af80",
   "metadata": {
    "scrolled": true
   },
   "outputs": [],
   "source": [
    "from yt_pipeline.container import PlaylistsContainer\n",
    "\n",
    "# handle different results\n",
    "if isinstance(results, tuple):\n",
    "    raw_items, error = results\n",
    "    self.errors.append(error)\n",
    "else:\n",
    "    raw_items = results\n",
    "    \n",
    "box = PlaylistsContainer(raw_items)\n",
    "\n",
    "for i in box.items[:5]:\n",
    "    print(i, end='\\n\\n')"
   ]
  },
  {
   "cell_type": "markdown",
   "id": "4d40c149",
   "metadata": {},
   "source": [
    "## PlaylistShipper"
   ]
  },
  {
   "cell_type": "code",
   "execution_count": null,
   "id": "61a3c6c8",
   "metadata": {
    "scrolled": true
   },
   "outputs": [],
   "source": [
    "from yt_pipeline.shipper import PlaylistShipper\n",
    "\n",
    "shipper = PlaylistShipper()\n",
    "shipper.invoke(box.items)\n",
    "\n",
    "import pandas as pd\n",
    "\n",
    "df = pd.DataFrame(shipper.main_records)\n",
    "df"
   ]
  },
  {
   "cell_type": "markdown",
   "id": "7f6ce8ca",
   "metadata": {},
   "source": [
    "# Type 2: Unique"
   ]
  },
  {
   "cell_type": "markdown",
   "id": "d2438354",
   "metadata": {},
   "source": [
    "## VideoRetriever"
   ]
  },
  {
   "cell_type": "code",
   "execution_count": null,
   "id": "8c948724",
   "metadata": {},
   "outputs": [],
   "source": [
    "from yt_pipeline.retriever import VideosRetriever"
   ]
  },
  {
   "cell_type": "code",
   "execution_count": null,
   "id": "321bff62",
   "metadata": {},
   "outputs": [],
   "source": [
    "print(\"Size of video ids:\", len(video_ids))\n",
    "worker = VideosRetriever(iterable=video_ids, developerKey=devKey, max_workers=16)\n",
    "results = worker.invoke(multithread=True)\n",
    "print(\"Size of results:\", len(results))"
   ]
  },
  {
   "cell_type": "markdown",
   "id": "7b1cb73b",
   "metadata": {},
   "source": [
    "## VideoContainer"
   ]
  },
  {
   "cell_type": "code",
   "execution_count": null,
   "id": "c0818ec4",
   "metadata": {},
   "outputs": [],
   "source": [
    "from yt_pipeline.container import VideosContainer\n",
    "\n",
    "# handle different results\n",
    "if isinstance(results, tuple):\n",
    "    raw_items, error = results\n",
    "    self.errors.append(error)\n",
    "else:\n",
    "    raw_items = results\n",
    "    \n",
    "box = VideosContainer(raw_items)\n",
    "\n",
    "for i in box.items[:5]:\n",
    "    print(i, end='\\n\\n')"
   ]
  },
  {
   "cell_type": "markdown",
   "id": "69694d19",
   "metadata": {},
   "source": [
    "## VideoShipper"
   ]
  },
  {
   "cell_type": "code",
   "execution_count": null,
   "id": "38896383",
   "metadata": {
    "scrolled": true
   },
   "outputs": [],
   "source": [
    "from yt_pipeline.shipper import VideoShipper\n",
    "\n",
    "shipper = VideoShipper()\n",
    "shipper.invoke(box.items)\n",
    "\n",
    "import pandas as pd\n",
    "\n",
    "df = pd.DataFrame(shipper.main_records)\n",
    "df"
   ]
  },
  {
   "cell_type": "markdown",
   "id": "2021c71f",
   "metadata": {},
   "source": [
    "## ChannelsRetriever"
   ]
  },
  {
   "cell_type": "code",
   "execution_count": null,
   "id": "17f39292",
   "metadata": {},
   "outputs": [],
   "source": [
    "from yt_pipeline.retriever import ChannelsRetriever\n",
    "\n",
    "print(\"Size of channel ids:\", len(channel_ids))\n",
    "worker = ChannelsRetriever(iterable=channel_ids, developerKey=devKey, max_workers=16)\n",
    "results = worker.invoke(multithread=True)\n",
    "print(\"Size of results:\", len(results))"
   ]
  },
  {
   "cell_type": "markdown",
   "id": "2d6241f4",
   "metadata": {},
   "source": [
    "## ChannelsContainer"
   ]
  },
  {
   "cell_type": "code",
   "execution_count": null,
   "id": "a2c0ffa1",
   "metadata": {
    "scrolled": true
   },
   "outputs": [],
   "source": [
    "from yt_pipeline.container import ChannelsContainer\n",
    "\n",
    "# handle different results\n",
    "if isinstance(results, tuple):\n",
    "    raw_items, error = results\n",
    "    self.errors.append(error)\n",
    "else:\n",
    "    raw_items = results\n",
    "    \n",
    "box = ChannelsContainer(raw_items)\n",
    "\n",
    "for i in box.items[:5]:\n",
    "    print(i, end='\\n\\n')"
   ]
  },
  {
   "cell_type": "markdown",
   "id": "c19093d5",
   "metadata": {},
   "source": [
    "## ChannelShipper"
   ]
  },
  {
   "cell_type": "code",
   "execution_count": null,
   "id": "4aa71e4f",
   "metadata": {
    "scrolled": true
   },
   "outputs": [],
   "source": [
    "from yt_pipeline.shipper import ChannelShipper\n",
    "\n",
    "shipper = ChannelShipper()\n",
    "shipper.invoke(box.items)\n",
    "\n",
    "import pandas as pd\n",
    "\n",
    "df = pd.DataFrame(shipper.main_records)\n",
    "df"
   ]
  },
  {
   "cell_type": "markdown",
   "id": "4761ef0e",
   "metadata": {},
   "source": [
    "# Type 3: SingleRetriever"
   ]
  },
  {
   "cell_type": "markdown",
   "id": "baa90675",
   "metadata": {},
   "source": [
    "## VideoCategoriesRetriever"
   ]
  },
  {
   "cell_type": "code",
   "execution_count": null,
   "id": "e43ed38b",
   "metadata": {},
   "outputs": [],
   "source": [
    "from yt_pipeline.retriever import VideoCategoriesRetriever\n",
    "from yt_pipeline.retriever.video_categories import VideoCategoriesParams\n",
    "\n",
    "\n",
    "worker = VideoCategoriesRetriever(params=VideoCategoriesParams(regionCode=\"JP\"), developerKey=devKey)\n",
    "results = worker.invoke()\n",
    "results"
   ]
  },
  {
   "cell_type": "markdown",
   "id": "3990cd55",
   "metadata": {},
   "source": [
    "## VideoCategoriesContainer"
   ]
  },
  {
   "cell_type": "code",
   "execution_count": null,
   "id": "b4b8b8e5",
   "metadata": {
    "scrolled": true
   },
   "outputs": [],
   "source": [
    "from yt_pipeline.container import VideoCategoriesContainer\n",
    "\n",
    "box = VideoCategoriesContainer(results)\n",
    "box.items"
   ]
  },
  {
   "cell_type": "markdown",
   "id": "f940ae4e",
   "metadata": {},
   "source": [
    "## VideoCategoriesShipper"
   ]
  },
  {
   "cell_type": "code",
   "execution_count": null,
   "id": "be2a3d95",
   "metadata": {},
   "outputs": [],
   "source": [
    "from yt_pipeline.shipper import VideoCategoriesShipper\n",
    "\n",
    "shipper = VideoCategoriesShipper()\n",
    "shipper.invoke(box.items)\n",
    "\n",
    "import pandas as pd\n",
    "\n",
    "df = pd.DataFrame(shipper.main_records)\n",
    "df"
   ]
  },
  {
   "cell_type": "markdown",
   "id": "e79f2a0f",
   "metadata": {},
   "source": [
    "# Type 4: Captions"
   ]
  },
  {
   "cell_type": "markdown",
   "id": "0fecc968",
   "metadata": {},
   "source": [
    "## CaptionsRetriever"
   ]
  },
  {
   "cell_type": "code",
   "execution_count": 3,
   "id": "79e7f4a8",
   "metadata": {
    "scrolled": true
   },
   "outputs": [
    {
     "name": "stderr",
     "output_type": "stream",
     "text": [
      " 1  /  1  batch(s) retrieved: 100%|██████████████████████████████████████████████████████| 1/1 [00:00<00:00,  1.61it/s]\n"
     ]
    },
    {
     "data": {
      "text/plain": [
       "[{'kind': 'youtube#caption',\n",
       "  'etag': 'KvyLPCCMDI4qR7b375Hjdons9Xo',\n",
       "  'id': 'AUieDaaWfE5gSTZluRBEpOonEu8C-48ZrDo4gea9EpGoqHwRp1c',\n",
       "  'snippet': {'videoId': 'eP_P4KOjwhs',\n",
       "   'lastUpdated': '2025-01-24T09:35:52.395103Z',\n",
       "   'trackKind': 'asr',\n",
       "   'language': 'en',\n",
       "   'name': '',\n",
       "   'audioTrackType': 'unknown',\n",
       "   'isCC': False,\n",
       "   'isLarge': False,\n",
       "   'isEasyReader': False,\n",
       "   'isDraft': False,\n",
       "   'isAutoSynced': False,\n",
       "   'status': 'serving'}}]"
      ]
     },
     "execution_count": 3,
     "metadata": {},
     "output_type": "execute_result"
    }
   ],
   "source": [
    "from yt_pipeline.retriever import CaptionsRetriever\n",
    "from yt_pipeline.retriever.captions import CaptionsParams\n",
    "\n",
    "params = [\n",
    "    CaptionsParams(videoId=\"eP_P4KOjwhs\")\n",
    "]\n",
    "\n",
    "worker = CaptionsRetriever(iterable=params, developerKey=devKey)\n",
    "results = worker.invoke()\n",
    "results"
   ]
  },
  {
   "cell_type": "markdown",
   "id": "40f34e38",
   "metadata": {},
   "source": [
    "## CaptionsContainer"
   ]
  },
  {
   "cell_type": "code",
   "execution_count": 4,
   "id": "a11e18ac",
   "metadata": {},
   "outputs": [
    {
     "data": {
      "text/plain": [
       "[CaptionItem(kind='youtube#caption', etag='KvyLPCCMDI4qR7b375Hjdons9Xo', id='AUieDaaWfE5gSTZluRBEpOonEu8C-48ZrDo4gea9EpGoqHwRp1c', snippet=CaptionSnippet(videoId='eP_P4KOjwhs', lastUpdated='2025-01-24T09:35:52.395103Z', trackKind='asr', language='en', name='', audioTrackType='unknown', isCC=False, isLarge=False, isEasyReader=False, isDraft=False, isAutoSynced=False, status='serving'))]"
      ]
     },
     "execution_count": 4,
     "metadata": {},
     "output_type": "execute_result"
    }
   ],
   "source": [
    "from yt_pipeline.container import CaptionsContainer\n",
    "\n",
    "box = CaptionsContainer(results)\n",
    "box.items"
   ]
  },
  {
   "cell_type": "markdown",
   "id": "48d359ab",
   "metadata": {},
   "source": [
    "## CaptionShipper"
   ]
  },
  {
   "cell_type": "code",
   "execution_count": 6,
   "id": "23fe0d0f",
   "metadata": {},
   "outputs": [
    {
     "data": {
      "text/html": [
       "<div>\n",
       "<style scoped>\n",
       "    .dataframe tbody tr th:only-of-type {\n",
       "        vertical-align: middle;\n",
       "    }\n",
       "\n",
       "    .dataframe tbody tr th {\n",
       "        vertical-align: top;\n",
       "    }\n",
       "\n",
       "    .dataframe thead th {\n",
       "        text-align: right;\n",
       "    }\n",
       "</style>\n",
       "<table border=\"1\" class=\"dataframe\">\n",
       "  <thead>\n",
       "    <tr style=\"text-align: right;\">\n",
       "      <th></th>\n",
       "      <th>kind</th>\n",
       "      <th>etag</th>\n",
       "      <th>id</th>\n",
       "      <th>videoId</th>\n",
       "      <th>lastUpdated</th>\n",
       "      <th>trackKind</th>\n",
       "      <th>language</th>\n",
       "      <th>name</th>\n",
       "      <th>audioTrackType</th>\n",
       "      <th>isCC</th>\n",
       "      <th>isLarge</th>\n",
       "      <th>isEasyReader</th>\n",
       "      <th>isDraft</th>\n",
       "      <th>isAutoSynced</th>\n",
       "      <th>status</th>\n",
       "    </tr>\n",
       "  </thead>\n",
       "  <tbody>\n",
       "    <tr>\n",
       "      <th>0</th>\n",
       "      <td>youtube#caption</td>\n",
       "      <td>KvyLPCCMDI4qR7b375Hjdons9Xo</td>\n",
       "      <td>AUieDaaWfE5gSTZluRBEpOonEu8C-48ZrDo4gea9EpGoqH...</td>\n",
       "      <td>eP_P4KOjwhs</td>\n",
       "      <td>2025-01-24T09:35:52.395103Z</td>\n",
       "      <td>asr</td>\n",
       "      <td>en</td>\n",
       "      <td></td>\n",
       "      <td>unknown</td>\n",
       "      <td>False</td>\n",
       "      <td>False</td>\n",
       "      <td>False</td>\n",
       "      <td>False</td>\n",
       "      <td>False</td>\n",
       "      <td>serving</td>\n",
       "    </tr>\n",
       "  </tbody>\n",
       "</table>\n",
       "</div>"
      ],
      "text/plain": [
       "              kind                         etag  \\\n",
       "0  youtube#caption  KvyLPCCMDI4qR7b375Hjdons9Xo   \n",
       "\n",
       "                                                  id      videoId  \\\n",
       "0  AUieDaaWfE5gSTZluRBEpOonEu8C-48ZrDo4gea9EpGoqH...  eP_P4KOjwhs   \n",
       "\n",
       "                   lastUpdated trackKind language name audioTrackType   isCC  \\\n",
       "0  2025-01-24T09:35:52.395103Z       asr       en             unknown  False   \n",
       "\n",
       "   isLarge  isEasyReader  isDraft  isAutoSynced   status  \n",
       "0    False         False    False         False  serving  "
      ]
     },
     "execution_count": 6,
     "metadata": {},
     "output_type": "execute_result"
    }
   ],
   "source": [
    "from yt_pipeline.shipper import CaptionsShipper\n",
    "\n",
    "shipper = CaptionsShipper()\n",
    "shipper.invoke(box.items)\n",
    "\n",
    "import pandas as pd\n",
    "\n",
    "df = pd.DataFrame(shipper.main_records)\n",
    "df"
   ]
  }
 ],
 "metadata": {
  "kernelspec": {
   "display_name": "Python 3 (ipykernel)",
   "language": "python",
   "name": "python3"
  },
  "language_info": {
   "codemirror_mode": {
    "name": "ipython",
    "version": 3
   },
   "file_extension": ".py",
   "mimetype": "text/x-python",
   "name": "python",
   "nbconvert_exporter": "python",
   "pygments_lexer": "ipython3",
   "version": "3.10.5"
  }
 },
 "nbformat": 4,
 "nbformat_minor": 5
}
